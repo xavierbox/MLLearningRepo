{
 "cells": [
  {
   "cell_type": "code",
   "execution_count": 1,
   "metadata": {},
   "outputs": [
    {
     "name": "stderr",
     "output_type": "stream",
     "text": [
      "/workspaces/MLLearningRepo/env/lib/python3.10/site-packages/sentence_transformers/cross_encoder/CrossEncoder.py:11: TqdmWarning: IProgress not found. Please update jupyter and ipywidgets. See https://ipywidgets.readthedocs.io/en/stable/user_install.html\n",
      "  from tqdm.autonotebook import tqdm, trange\n"
     ]
    }
   ],
   "source": [
    "from sentence_transformers import SentenceTransformer"
   ]
  },
  {
   "cell_type": "code",
   "execution_count": 6,
   "metadata": {},
   "outputs": [
    {
     "name": "stdout",
     "output_type": "stream",
     "text": [
      "scores 0.71894896 0.66697073\n",
      "hummmm....please choose from\n",
      "option 1 ['display_producer_rates']\n",
      "option 2 ['display_producer_rates']\n"
     ]
    }
   ],
   "source": [
    "# The sentences to encode\n",
    "\n",
    "functions = {\n",
    "            'display all well rates':           ['display_rates'],\n",
    "            'show me the well rates for selected':  ['display_rates'],\n",
    "            'plot well rates for producers': ['display_producer_rates'],\n",
    "            'display well producers rates ':    ['display_producer_rates'],\n",
    "            'display well rates only for producers selected': ['display_producer_rates']\n",
    " }\n",
    "\n",
    "user_sentences = [\n",
    "    \"show rates for all wells\",\n",
    "    \"display producers rates \",\n",
    "    \"display rated only for the selected wells\"\n",
    "    \"select all\",\n",
    "    \"hide selected rows\",\n",
    "    \"unhide all\",\n",
    "    ]\n",
    "\n",
    "model = SentenceTransformer(\"all-MiniLM-L6-v2\")\n",
    "\n",
    "# 2. Calculate embeddings by calling model.encode()\n",
    "\n",
    "\n",
    "def pre_process( similarities ):\n",
    "    similarities.argmax()\n",
    "\n",
    "    d  = { n:similarities[n] for n in range(len(similarities))} \n",
    "    d  = sorted( d.items(), key = lambda x: x[1], reverse=True)\n",
    "\n",
    "    kfunctions = list( functions.keys() )\n",
    "    max_score, ksentence1 = d[0][1], kfunctions[d[0][0]]\n",
    "    second_max_score, ksentence2 = d[1][1], kfunctions[d[1][0]]\n",
    "\n",
    "    sentence1, sentence2= functions[ksentence1], functions[ksentence2]\n",
    "\n",
    "    print('scores', max_score,second_max_score)\n",
    "    if max_score < 0.7: \n",
    "        print( 'The order is not clear')\n",
    "    elif (max_score - second_max_score) / max_score < 0.1:\n",
    "        print( 'hummmm....please choose from')\n",
    "        print('option 1', sentence1)\n",
    "        print('option 2', sentence2)\n",
    "        \n",
    "    else:\n",
    "        print('executing ', sentence1 )\n",
    "\n",
    "embeddings1 = model.encode(list(functions.keys()))\n",
    "embeddings2 = model.encode( \"show me the rates of the producers only\" )\n",
    "similarities = model.similarity(embeddings1, embeddings2).detach().numpy().flatten()\n",
    "pre_process( similarities )\n",
    "\n",
    "\n"
   ]
  },
  {
   "cell_type": "code",
   "execution_count": 3,
   "metadata": {},
   "outputs": [],
   "source": [
    "d  = { n:similarities[n] for n in range(len(similarities))} \n",
    "d  = sorted( d.items(), key = lambda x: x[1], reverse=True)\n",
    "\n",
    "max_score = d[0][1]\n",
    "second_max_score = d[1][1]\n",
    "if max_score < 0.7: \n",
    "    print( 'The order is not clear')\n",
    "elif (max_score - second_max_score) / max_score < 0.1:\n",
    "    print( 'hummmm....please choose from')\n",
    "    print('option 1')\n",
    "    print('option 2')\n",
    "    \n",
    "\n",
    "\n"
   ]
  }
 ],
 "metadata": {
  "kernelspec": {
   "display_name": "env",
   "language": "python",
   "name": "python3"
  },
  "language_info": {
   "codemirror_mode": {
    "name": "ipython",
    "version": 3
   },
   "file_extension": ".py",
   "mimetype": "text/x-python",
   "name": "python",
   "nbconvert_exporter": "python",
   "pygments_lexer": "ipython3",
   "version": "3.10.13"
  }
 },
 "nbformat": 4,
 "nbformat_minor": 2
}
