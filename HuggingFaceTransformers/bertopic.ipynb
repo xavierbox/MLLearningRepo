{
 "cells": [
  {
   "cell_type": "code",
   "execution_count": 1,
   "metadata": {},
   "outputs": [
    {
     "name": "stderr",
     "output_type": "stream",
     "text": [
      "/home/vscode/.local/lib/python3.9/site-packages/tqdm/auto.py:21: TqdmWarning: IProgress not found. Please update jupyter and ipywidgets. See https://ipywidgets.readthedocs.io/en/stable/user_install.html\n",
      "  from .autonotebook import tqdm as notebook_tqdm\n"
     ]
    }
   ],
   "source": [
    "import kagglehub, pandas as pd \n",
    "#ath = kagglehub.dataset_download(\"gpreda/tokyo-olympics-2020-tweets\")\n",
    "#print(\"Path to dataset files:\", path)\n"
   ]
  },
  {
   "cell_type": "code",
   "execution_count": 2,
   "metadata": {},
   "outputs": [
    {
     "name": "stdout",
     "output_type": "stream",
     "text": [
      "/workspaces/MLLearningRepo/HuggingFaceTransformers\n"
     ]
    }
   ],
   "source": [
    "!pwd"
   ]
  },
  {
   "cell_type": "code",
   "execution_count": 3,
   "metadata": {},
   "outputs": [
    {
     "name": "stdout",
     "output_type": "stream",
     "text": [
      "0                      Let the party begin\\n#Tokyo2020\n",
      "1    Congratulations #Tokyo2020 https://t.co/8OFKMs...\n",
      "2    Big Breaking Now \\n\\nTokyo Olympic Update \\n\\n...\n",
      "3    Q4: 🇬🇧3-1🇿🇦\\n\\nGreat Britain finally find a wa...\n",
      "4    All I can think of every time I watch the ring...\n",
      "5    #Tokyo2020 #Olympics\\n#MirabaiChanu\\n#Weightli...\n",
      "6    Can't help but cheer for them. Banda 6 goals i...\n",
      "7    @inquirerdotnet @ftjochoaINQ Caloy Yulo's 14.0...\n",
      "8    Q3 🇨🇦 1-4 🇩🇪\\n\\nGreen card for Canada's captai...\n",
      "9    Hearty Congratulations to \\nIndian Railways 🏋️...\n",
      "Name: text, dtype: object\n",
      "['Let the party begin\\n#Tokyo2020', 'Congratulations #Tokyo2020 https://t.co/8OFKMs9ukq', \"Big Breaking Now \\n\\nTokyo Olympic Update \\n\\nJapan won his first Gold 🥇 Takato Naohisa won Gold in men's 60 kg Judo, C… https://t.co/tRcfDd7clY\", 'Q4: 🇬🇧3-1🇿🇦\\n\\nGreat Britain finally find a way way Pieterse, with Jack Waller finding the net via the stick of a Sou… https://t.co/kdeNYg9THk', 'All I can think of every time I watch the rings event #Tokyo2020 #ArtisticGymnastics #7Olympics #OlympicGames… https://t.co/cJaxEFnyzD']\n"
     ]
    },
    {
     "name": "stderr",
     "output_type": "stream",
     "text": [
      "/home/vscode/.local/lib/python3.9/site-packages/IPython/core/interactiveshell.py:3550: DtypeWarning: Columns (0,1,2,3,4,5,6,7,8,9,10,11,12,15) have mixed types.Specify dtype option on import or set low_memory=False.\n",
      "  exec(code_obj, self.user_global_ns, self.user_ns)\n"
     ]
    }
   ],
   "source": [
    "df = pd.read_csv( \"tokyo_2020_tweets.csv\" )\n",
    "print( df['text'][0:10] )\n",
    "docs = df['text'].to_list()\n",
    "print( docs[0:5] )"
   ]
  },
  {
   "cell_type": "code",
   "execution_count": 4,
   "metadata": {},
   "outputs": [],
   "source": [
    "from bertopic import BERTopic"
   ]
  },
  {
   "cell_type": "code",
   "execution_count": null,
   "metadata": {},
   "outputs": [],
   "source": [
    "topic_model = BERTopic(\"english\")\n",
    "topics, probs = topic_model.fit_transform(docs)"
   ]
  },
  {
   "cell_type": "code",
   "execution_count": null,
   "metadata": {},
   "outputs": [],
   "source": []
  }
 ],
 "metadata": {
  "kernelspec": {
   "display_name": "Python 3",
   "language": "python",
   "name": "python3"
  },
  "language_info": {
   "codemirror_mode": {
    "name": "ipython",
    "version": 3
   },
   "file_extension": ".py",
   "mimetype": "text/x-python",
   "name": "python",
   "nbconvert_exporter": "python",
   "pygments_lexer": "ipython3",
   "version": "3.9.19"
  }
 },
 "nbformat": 4,
 "nbformat_minor": 2
}
